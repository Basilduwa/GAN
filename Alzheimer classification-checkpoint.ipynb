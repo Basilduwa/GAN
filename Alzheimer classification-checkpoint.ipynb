{
 "cells": [
  {
   "cell_type": "code",
   "execution_count": 3,
   "id": "675387aa",
   "metadata": {},
   "outputs": [],
   "source": [
    "import numpy as np\n",
    "import pandas as pd\n",
    "from pathlib import Path\n",
    "import os.path\n",
    "import matplotlib.pyplot as plt\n",
    "import seaborn as sns\n",
    "from sklearn.model_selection import train_test_split\n",
    "import tensorflow as tf\n",
    "from sklearn.metrics import confusion_matrix, classification_report\n",
    "from tensorflow.keras.models import Sequential\n",
    "from tensorflow.keras.layers import Conv2D, MaxPooling2D, Flatten, Dense, Dropout\n",
    "from pathlib import Path\n",
    "import os"
   ]
  },
  {
   "cell_type": "code",
   "execution_count": 4,
   "id": "5f686fe3",
   "metadata": {},
   "outputs": [],
   "source": [
    "#Load Dataset\n",
    "image_dir = Path (r\"C:\\Users\\NET PC\\Desktop\\Alzheimeir\\Dataset\")"
   ]
  },
  {
   "cell_type": "code",
   "execution_count": 6,
   "id": "75d72746",
   "metadata": {},
   "outputs": [],
   "source": [
    "filepaths = list(image_dir.glob(r'*/*.JPG'))\n",
    "labels = list(map(lambda x: os.path.split(os.path.split(x)[0])[1], filepaths))\n",
    "\n",
    "filepaths = pd.Series(filepaths, name='Filepath').astype(str)\n",
    "labels = pd.Series(labels, name='Label')\n",
    "\n",
    "image_df = pd.concat([filepaths, labels], axis=1)"
   ]
  },
  {
   "cell_type": "code",
   "execution_count": 7,
   "id": "28e8ae55",
   "metadata": {},
   "outputs": [
    {
     "data": {
      "text/html": [
       "<div>\n",
       "<style scoped>\n",
       "    .dataframe tbody tr th:only-of-type {\n",
       "        vertical-align: middle;\n",
       "    }\n",
       "\n",
       "    .dataframe tbody tr th {\n",
       "        vertical-align: top;\n",
       "    }\n",
       "\n",
       "    .dataframe thead th {\n",
       "        text-align: right;\n",
       "    }\n",
       "</style>\n",
       "<table border=\"1\" class=\"dataframe\">\n",
       "  <thead>\n",
       "    <tr style=\"text-align: right;\">\n",
       "      <th></th>\n",
       "      <th>Filepath</th>\n",
       "      <th>Label</th>\n",
       "    </tr>\n",
       "  </thead>\n",
       "  <tbody>\n",
       "    <tr>\n",
       "      <th>0</th>\n",
       "      <td>C:\\Users\\NET PC\\Desktop\\Alzheimeir\\Dataset\\Mil...</td>\n",
       "      <td>Mild_Demented</td>\n",
       "    </tr>\n",
       "    <tr>\n",
       "      <th>1</th>\n",
       "      <td>C:\\Users\\NET PC\\Desktop\\Alzheimeir\\Dataset\\Mil...</td>\n",
       "      <td>Mild_Demented</td>\n",
       "    </tr>\n",
       "    <tr>\n",
       "      <th>2</th>\n",
       "      <td>C:\\Users\\NET PC\\Desktop\\Alzheimeir\\Dataset\\Mil...</td>\n",
       "      <td>Mild_Demented</td>\n",
       "    </tr>\n",
       "    <tr>\n",
       "      <th>3</th>\n",
       "      <td>C:\\Users\\NET PC\\Desktop\\Alzheimeir\\Dataset\\Mil...</td>\n",
       "      <td>Mild_Demented</td>\n",
       "    </tr>\n",
       "    <tr>\n",
       "      <th>4</th>\n",
       "      <td>C:\\Users\\NET PC\\Desktop\\Alzheimeir\\Dataset\\Mil...</td>\n",
       "      <td>Mild_Demented</td>\n",
       "    </tr>\n",
       "    <tr>\n",
       "      <th>...</th>\n",
       "      <td>...</td>\n",
       "      <td>...</td>\n",
       "    </tr>\n",
       "    <tr>\n",
       "      <th>6395</th>\n",
       "      <td>C:\\Users\\NET PC\\Desktop\\Alzheimeir\\Dataset\\Ver...</td>\n",
       "      <td>Very_Mild_Demented</td>\n",
       "    </tr>\n",
       "    <tr>\n",
       "      <th>6396</th>\n",
       "      <td>C:\\Users\\NET PC\\Desktop\\Alzheimeir\\Dataset\\Ver...</td>\n",
       "      <td>Very_Mild_Demented</td>\n",
       "    </tr>\n",
       "    <tr>\n",
       "      <th>6397</th>\n",
       "      <td>C:\\Users\\NET PC\\Desktop\\Alzheimeir\\Dataset\\Ver...</td>\n",
       "      <td>Very_Mild_Demented</td>\n",
       "    </tr>\n",
       "    <tr>\n",
       "      <th>6398</th>\n",
       "      <td>C:\\Users\\NET PC\\Desktop\\Alzheimeir\\Dataset\\Ver...</td>\n",
       "      <td>Very_Mild_Demented</td>\n",
       "    </tr>\n",
       "    <tr>\n",
       "      <th>6399</th>\n",
       "      <td>C:\\Users\\NET PC\\Desktop\\Alzheimeir\\Dataset\\Ver...</td>\n",
       "      <td>Very_Mild_Demented</td>\n",
       "    </tr>\n",
       "  </tbody>\n",
       "</table>\n",
       "<p>6400 rows × 2 columns</p>\n",
       "</div>"
      ],
      "text/plain": [
       "                                               Filepath               Label\n",
       "0     C:\\Users\\NET PC\\Desktop\\Alzheimeir\\Dataset\\Mil...       Mild_Demented\n",
       "1     C:\\Users\\NET PC\\Desktop\\Alzheimeir\\Dataset\\Mil...       Mild_Demented\n",
       "2     C:\\Users\\NET PC\\Desktop\\Alzheimeir\\Dataset\\Mil...       Mild_Demented\n",
       "3     C:\\Users\\NET PC\\Desktop\\Alzheimeir\\Dataset\\Mil...       Mild_Demented\n",
       "4     C:\\Users\\NET PC\\Desktop\\Alzheimeir\\Dataset\\Mil...       Mild_Demented\n",
       "...                                                 ...                 ...\n",
       "6395  C:\\Users\\NET PC\\Desktop\\Alzheimeir\\Dataset\\Ver...  Very_Mild_Demented\n",
       "6396  C:\\Users\\NET PC\\Desktop\\Alzheimeir\\Dataset\\Ver...  Very_Mild_Demented\n",
       "6397  C:\\Users\\NET PC\\Desktop\\Alzheimeir\\Dataset\\Ver...  Very_Mild_Demented\n",
       "6398  C:\\Users\\NET PC\\Desktop\\Alzheimeir\\Dataset\\Ver...  Very_Mild_Demented\n",
       "6399  C:\\Users\\NET PC\\Desktop\\Alzheimeir\\Dataset\\Ver...  Very_Mild_Demented\n",
       "\n",
       "[6400 rows x 2 columns]"
      ]
     },
     "execution_count": 7,
     "metadata": {},
     "output_type": "execute_result"
    }
   ],
   "source": [
    "image_df"
   ]
  },
  {
   "cell_type": "code",
   "execution_count": null,
   "id": "84811f1a",
   "metadata": {},
   "outputs": [],
   "source": []
  },
  {
   "cell_type": "code",
   "execution_count": null,
   "id": "1b51e781",
   "metadata": {},
   "outputs": [],
   "source": []
  }
 ],
 "metadata": {
  "kernelspec": {
   "display_name": "Python 3 (ipykernel)",
   "language": "python",
   "name": "python3"
  },
  "language_info": {
   "codemirror_mode": {
    "name": "ipython",
    "version": 3
   },
   "file_extension": ".py",
   "mimetype": "text/x-python",
   "name": "python",
   "nbconvert_exporter": "python",
   "pygments_lexer": "ipython3",
   "version": "3.9.7"
  }
 },
 "nbformat": 4,
 "nbformat_minor": 5
}
